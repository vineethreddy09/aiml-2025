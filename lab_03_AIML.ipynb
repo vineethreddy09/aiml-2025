{
  "nbformat": 4,
  "nbformat_minor": 0,
  "metadata": {
    "colab": {
      "provenance": [],
      "authorship_tag": "ABX9TyOP4+rouJ2dOF+N/H6cWCCh",
      "include_colab_link": true
    },
    "kernelspec": {
      "name": "python3",
      "display_name": "Python 3"
    },
    "language_info": {
      "name": "python"
    }
  },
  "cells": [
    {
      "cell_type": "markdown",
      "metadata": {
        "id": "view-in-github",
        "colab_type": "text"
      },
      "source": [
        "<a href=\"https://colab.research.google.com/github/vineethreddy09/aiml-2025/blob/main/lab_03_AIML.ipynb\" target=\"_parent\"><img src=\"https://colab.research.google.com/assets/colab-badge.svg\" alt=\"Open In Colab\"/></a>"
      ]
    },
    {
      "cell_type": "code",
      "execution_count": 7,
      "metadata": {
        "id": "_B2YbN8oNZVJ"
      },
      "outputs": [],
      "source": [
        "from collections import namedtuple,Counter,defaultdict\n",
        "import random\n",
        "import functools\n",
        "cache=functools.lru_cache(10**6)"
      ]
    },
    {
      "cell_type": "code",
      "source": [
        "class Game:\n",
        "\n",
        "  \"\"\"A game is similar to a problem, but it has a terminal test instead of a goal test, and a\n",
        "   utility for each terminal state,to subclass this class implement 'actions', 'result',and'utility'.\n",
        "   you will also need to set the intial state;this can be done in the constructor.\"\"\"\n",
        "\n",
        "  def actions(self,state):\n",
        "     raise NotImplementedError\n",
        "\n",
        "  def result(self,state,move):\n",
        "     raise NotImplementedError\n",
        "\n",
        "  def is_terminal(self,state):\n",
        "     return not self.actions(state)\n",
        "\n",
        "  def utility(self,state,player):\n",
        "     raise NotImplementedError"
      ],
      "metadata": {
        "id": "eVod4TfeOyEz"
      },
      "execution_count": 9,
      "outputs": []
    },
    {
      "cell_type": "code",
      "source": [
        "def play_game(game,stratagies: dict,verbose=False):\n",
        "  state=game.initial\n",
        "  while not game.is_terminal(state):\n",
        "    player=state.to_move\n",
        "    move=stratagies[player](game,state)\n",
        "    state=game.result(state,move)\n",
        "    if verbose:\n",
        "      print('Player',player,'move:',move)\n",
        "  return state\n"
      ],
      "metadata": {
        "id": "vpXULiSFQ9md"
      },
      "execution_count": 10,
      "outputs": []
    },
    {
      "cell_type": "markdown",
      "source": [
        "PART-02"
      ],
      "metadata": {
        "id": "DhBHuqqMTfJb"
      }
    },
    {
      "cell_type": "code",
      "source": [
        "def minimax_search(game, state):\n",
        "  player = state.to_move\n",
        "\n",
        "  def max_value(state):\n",
        "    if game.is_terminal(state):\n",
        "      return game.utility(state,player),None\n",
        "    v,move= -infinity,None\n",
        "    for a in game.actions(state):\n",
        "      v2,_=min_value(game.result(state,a))\n",
        "      if v2>v:\n",
        "        v,move=v2,a\n",
        "    return v,move\n",
        "\n",
        "  def min_value(state):\n",
        "    if game.is_terminal(state):\n",
        "      return game.utility(state,player),None\n",
        "    v,move=float('inf'),None\n",
        "    for a in game.actions(state):\n",
        "      v2,_=max_value(game.result(state,a))\n",
        "      if v2<v:\n",
        "        v,move=v2,a\n",
        "    return v,move\n",
        "\n",
        "_, move = max_value(state)\n",
        "return move\n",
        "\n",
        ""
      ],
      "metadata": {
        "id": "Wiviqpl2TlAh"
      },
      "execution_count": null,
      "outputs": []
    }
  ]
}